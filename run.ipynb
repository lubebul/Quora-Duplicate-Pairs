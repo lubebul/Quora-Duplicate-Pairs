{
 "cells": [
  {
   "cell_type": "code",
   "execution_count": 1,
   "metadata": {
    "collapsed": false,
    "scrolled": true
   },
   "outputs": [
    {
     "name": "stderr",
     "output_type": "stream",
     "text": [
      "/home/admin0/.pyenv/versions/miniconda3-latest/lib/python3.5/site-packages/fuzzywuzzy/fuzz.py:35: UserWarning: Using slow pure-python SequenceMatcher. Install python-Levenshtein to remove this warning\n",
      "  warnings.warn('Using slow pure-python SequenceMatcher. Install python-Levenshtein to remove this warning')\n",
      "/home/admin0/.pyenv/versions/miniconda3-latest/lib/python3.5/site-packages/sklearn/cross_validation.py:44: DeprecationWarning: This module was deprecated in version 0.18 in favor of the model_selection module into which all the refactored classes and functions are moved. Also note that the interface of the new CV iterators are different from that of this module. This module will be removed in 0.20.\n",
      "  \"This module will be removed in 0.20.\", DeprecationWarning)\n",
      "Using TensorFlow backend.\n"
     ]
    }
   ],
   "source": [
    "# general\n",
    "import _pickle as cPickle\n",
    "import re\n",
    "import multiprocessing\n",
    "from collections import defaultdict\n",
    "from collections import namedtuple\n",
    "import datetime\n",
    "import os\n",
    "import pandas as pd\n",
    "import numpy as np\n",
    "\n",
    "# NLP\n",
    "import gensim\n",
    "from gensim import corpora\n",
    "from nltk.corpus import stopwords\n",
    "from nltk.stem.porter import *\n",
    "from nltk.stem import WordNetLemmatizer\n",
    "from nltk.tokenize import RegexpTokenizer\n",
    "from gensim.models.word2vec import Word2Vec\n",
    "from gensim.models import Phrases\n",
    "from fuzzywuzzy import fuzz\n",
    "\n",
    "# clfs\n",
    "from sklearn.model_selection import train_test_split\n",
    "from sklearn.feature_extraction.text import TfidfVectorizer\n",
    "from sklearn.linear_model import LogisticRegression\n",
    "from sklearn.metrics import roc_auc_score\n",
    "from sklearn.model_selection import train_test_split, learning_curve, GridSearchCV, cross_val_score\n",
    "from sklearn.neighbors import KNeighborsClassifier\n",
    "from sklearn.linear_model import LogisticRegression, Lasso\n",
    "from sklearn.ensemble import RandomForestClassifier\n",
    "from sklearn.svm import SVC\n",
    "from sklearn.metrics.pairwise import cosine_similarity\n",
    "import xgboost as xgb\n",
    "\n",
    "# NN\n",
    "from keras.models import Model, load_model\n",
    "from keras.layers import Input, Dense, merge\n",
    "from keras.optimizers import RMSprop\n",
    "from keras.callbacks import EarlyStopping\n",
    "\n",
    "# visualize\n",
    "import matplotlib.pyplot as plt\n",
    "import seaborn as sns\n",
    "import networkx as nx\n",
    "\n",
    "%matplotlib inline\n",
    "os.environ[\"CUDA_VISIBLE_DEVICES\"]='0'"
   ]
  },
  {
   "cell_type": "code",
   "execution_count": 2,
   "metadata": {
    "collapsed": false
   },
   "outputs": [],
   "source": [
    "df = pd.read_csv('data/train_min.csv')\n",
    "df_test = pd.read_csv('data/test_min.csv')"
   ]
  },
  {
   "cell_type": "code",
   "execution_count": 46,
   "metadata": {
    "collapsed": false
   },
   "outputs": [],
   "source": [
    "tdf = xdf.copy()\n",
    "tdf_test = xdf_test.copy()\n",
    "for f in df.columns:\n",
    "    if f not in xdf.columns and 'id' not in f:\n",
    "        tdf[f] = df[f]\n",
    "        tdf_test[f] = df_test[f]\n",
    "tdf_test['test_id'] = df_test['test_id']"
   ]
  },
  {
   "cell_type": "markdown",
   "metadata": {},
   "source": [
    "# When Questions Duplicate?\n",
    "\n",
    "Let $q_1, q_2$ be a pair of questions to compare.<br>\n",
    "Ideally, we'd like to find a similarity metric, st $\\text{sim}(q_1,q_2)$ is high => duplicate, and low otherwise.<br>\n",
    "However, after looking at the data, several issues\n",
    " 1. minor difference(mispelling/grammatical) => character-level similarity\n",
    "  - duplicate<br>\n",
    "    \"Should people over 98 not be allowed to vote?\"<br>\n",
    "    \"Should people over 96 not be allowed to vote?\"\n",
    "  - non-duplicate<br>\n",
    "    \"What are some solved problems in mathematics?\"<br>\n",
    "    \"What are some unsolved problems in mathematics?\"\n",
    "  - percentage of duplicate vs non-duplicate?\n",
    " 2. differ in only synonyms => word-level similarity\n",
    "  - always duplicate<br>\n",
    "    \"How can you determine the boiling point of a substance?\"<br>\n",
    "    \"How do you calculate the boiling point of a substance?\"\n",
    " 3. differ in length, explained in more detail => common-word match\n",
    "  - mostly duplicate<br>\n",
    "    \"Can a person lose weight without going to the gym?\"<br>\n",
    "    \"Can I lose weight and grow muscle without going to the gym or without using weights?\"\n",
    " 4. differ in word order => sort before common-word match\n",
    "  - mostly duplicate<br>\n",
    "    \"Is it possible that Trump entered the Presidential campaign to ensure that Hillary Clinton wins?\"<br>\n",
    "    \"Is Hillary Clinton secretly paying Donald Trump to throw the election?\"\n",
    " 5. differ in question coverage $q_1\\in q_2$\n",
    "  - mostly non-duplicate<br>\n",
    "    \"What is the step by step guide to invest in share market?\"<br>\n",
    "    \"What is the step by step guide to invest in share market in india?\"\n",
    " 6. (hard) duplicate with antonyms => compare antonym with position\n",
    "  - \"Is bungee jumping dangerous?\"<br>\n",
    "    \"How safe is bungee jumping?\"\n",
    "  - \"Why shouldn't I vote for Donald Trump?\"<br>\n",
    "    \"Why should I not vote for Trump?\""
   ]
  },
  {
   "cell_type": "markdown",
   "metadata": {},
   "source": [
    "## Are Classes Balanced?\n",
    "\n",
    "duplicate vs non-duplicate = 1:2 => upscaling dupicate samples helps(? no)"
   ]
  },
  {
   "cell_type": "code",
   "execution_count": null,
   "metadata": {
    "collapsed": false,
    "scrolled": true
   },
   "outputs": [],
   "source": [
    "is_dup = df['is_duplicate'].value_counts()\n",
    "plt.figure(figsize=(8,4))\n",
    "sns.barplot(is_dup.index, is_dup.values, alpha=0.8)\n",
    "plt.ylabel('Number of Occurrences', fontsize=12)\n",
    "plt.xlabel('Is Duplicate', fontsize=12)\n",
    "plt.savefig('fig/label-dist.png')\n",
    "is_dup/np.sum(is_dup)"
   ]
  },
  {
   "cell_type": "markdown",
   "metadata": {},
   "source": [
    "## Are Questions Compared Equally?\n",
    " motivate magic features"
   ]
  },
  {
   "cell_type": "code",
   "execution_count": null,
   "metadata": {
    "collapsed": false,
    "scrolled": false
   },
   "outputs": [],
   "source": [
    "print('Total number of question pairs for training: {}'.format(len(df)))\n",
    "print('Duplicate pairs: {}%'.format(round(df['is_duplicate'].mean()*100, 2)))\n",
    "qids = pd.Series(df['qid1'].tolist() + df['qid2'].tolist())\n",
    "print('Total number of questions in the training data: {}'.format(len(np.unique(qids))))\n",
    "print('Number of questions that appear multiple times: {}'.format(np.sum(qids.value_counts() > 1)))\n",
    "\n",
    "plt.figure(figsize=(15, 5))\n",
    "plt.hist(qids.value_counts(), bins=50)\n",
    "plt.yscale('log', nonposy='clip')\n",
    "plt.title('Log-Histogram of question appearance counts')\n",
    "plt.xlabel('Number of occurences of question')\n",
    "plt.ylabel('Number of questions')\n",
    "plt.savefig('fig/question-freq.png')"
   ]
  },
  {
   "cell_type": "markdown",
   "metadata": {},
   "source": [
    "## Fair Splitting of Train/Testing Data?\n",
    "most frequent words are roughly the same."
   ]
  },
  {
   "cell_type": "code",
   "execution_count": null,
   "metadata": {
    "collapsed": false
   },
   "outputs": [],
   "source": [
    "def count(qs, ngram=1):\n",
    "    wc = {}\n",
    "    for i in range(qs.shape[0]):\n",
    "        ws = list(map(lambda w:w.strip(), re.split('[^\\w]', qs[i])))\n",
    "        ws = [x for x in ws if x != '']\n",
    "        for i in range(len(ws)):\n",
    "            if i+ngram > len(ws):\n",
    "                break\n",
    "            cur = ' '.join(ws[i:i+ngram])\n",
    "            wc[cur] = 1 if cur not in wc.keys() else wc[cur]+1\n",
    "    return wc\n",
    "def plot(wrank, topk, out=''):\n",
    "    fig = plt.figure(figsize=(15,5))\n",
    "    plt.plot(range(topk), [wrank[i][0] for i in range(topk)])\n",
    "    plt.xticks(range(topk), [wrank[i][1] for i in range(topk)])\n",
    "    if len(out)>0:\n",
    "        plt.savefig(out)\n",
    "    else:\n",
    "        plt.show()\n",
    "\n",
    "Q = df['question1'].append(df['question2']).fillna('')\n",
    "n1 = count(Q.values, ngram=1)\n",
    "n2 = count(Q.values, ngram=2)\n",
    "print('#distinct vocabularies: {}'.format(len(n1)))\n",
    "rn1 = list(reversed(sorted([(v,k) for (k,v) in n1.items()])))\n",
    "print('#distinct vocabularies: {}'.format(len(n2)))\n",
    "rn2 = list(reversed(sorted([(v,k) for (k,v) in n2.items()])))\n",
    "plot(rn1, 20, out='fig/train-topugram.png')\n",
    "plot(rn2, 20, out='fig/train-topbgram.png')\n",
    "Q_test = df_test['question1'].append(df_test['question2']).fillna('')\n",
    "n1_test = count(Q_test.values, ngram=1)\n",
    "n2_test = count(Q_test.values, ngram=2)\n",
    "print('#distinct vocabularies: {}'.format(len(n1_test)))\n",
    "rn1_test = list(reversed(sorted([(v,k) for (k,v) in n1_test.items()])))\n",
    "print('#distinct vocabularies: {}'.format(len(n2_test)))\n",
    "rn2_test = list(reversed(sorted([(v,k) for (k,v) in n2_test.items()])))\n",
    "plot(rn1_test, 20, out='fig/test-topugram.png')\n",
    "plot(rn2_test, 20, out='fig/test-topbgram.png')"
   ]
  },
  {
   "cell_type": "markdown",
   "metadata": {},
   "source": [
    "## Clean Text"
   ]
  },
  {
   "cell_type": "code",
   "execution_count": null,
   "metadata": {
    "collapsed": true
   },
   "outputs": [],
   "source": [
    "stop_words = ['the','a','an','and','but','if','or','because','as','what','which','this','that','these','those','then',\n",
    "              'just','so','than','such','both','through','about','for','is','of','while','during','to','What','Which',\n",
    "              'Is','If','While','This']\n",
    "def clean(text):\n",
    "    text = re.sub(r\"[^A-Za-z0-9]\", \" \", text)\n",
    "    text = re.sub(r\"what's\", \"\", text)\n",
    "    text = re.sub(r\"What's\", \"\", text)\n",
    "    text = re.sub(r\"\\'s\", \" \", text)\n",
    "    text = re.sub(r\"\\'ve\", \" have \", text)\n",
    "    text = re.sub(r\"can't\", \"cannot \", text)\n",
    "    text = re.sub(r\"n't\", \" not \", text)\n",
    "    text = re.sub(r\"I'm\", \"I am\", text)\n",
    "    text = re.sub(r\" m \", \" am \", text)\n",
    "    text = re.sub(r\"\\'re\", \" are \", text)\n",
    "    text = re.sub(r\"\\'d\", \" would \", text)\n",
    "    text = re.sub(r\"\\'ll\", \" will \", text)\n",
    "    text = re.sub(r\"\\0k \", \"0000 \", text)\n",
    "    text = re.sub(r\" e g \", \" eg \", text)\n",
    "    text = re.sub(r\" b g \", \" bg \", text)\n",
    "    text = re.sub(r\"\\0s\", \"0\", text)\n",
    "    text = re.sub(r\" 9 11 \", \"911\", text)\n",
    "    text = re.sub(r\"e-mail\", \"email\", text)\n",
    "    text = re.sub(r\"\\s{2,}\", \" \", text)\n",
    "    text = re.sub(r\"quikly\", \"quickly\", text)\n",
    "    text = re.sub(r\" usa \", \" America \", text)\n",
    "    text = re.sub(r\" USA \", \" America \", text)\n",
    "    text = re.sub(r\" u s \", \" America \", text)\n",
    "    text = re.sub(r\" uk \", \" England \", text)\n",
    "    text = re.sub(r\" UK \", \" England \", text)\n",
    "    text = re.sub(r\"india\", \"India\", text)\n",
    "    text = re.sub(r\"china\", \"China\", text)\n",
    "    text = re.sub(r\"chinese\", \"Chinese\", text) \n",
    "    text = re.sub(r\"imrovement\", \"improvement\", text)\n",
    "    text = re.sub(r\"intially\", \"initially\", text)\n",
    "    text = re.sub(r\"quora\", \"Quora\", text)\n",
    "    text = re.sub(r\" dms \", \"direct messages \", text)  \n",
    "    text = re.sub(r\"demonitization\", \"demonetization\", text) \n",
    "    text = re.sub(r\"actived\", \"active\", text)\n",
    "    text = re.sub(r\"kms\", \" kilometers \", text)\n",
    "    text = re.sub(r\"KMs\", \" kilometers \", text)\n",
    "    text = re.sub(r\" cs \", \" computer science \", text) \n",
    "    text = re.sub(r\" upvotes \", \" up votes \", text)\n",
    "    text = re.sub(r\" iPhone \", \" phone \", text)\n",
    "    text = re.sub(r\"\\0rs \", \" rs \", text) \n",
    "    text = re.sub(r\"calender\", \"calendar\", text)\n",
    "    text = re.sub(r\"ios\", \"operating system\", text)\n",
    "    text = re.sub(r\"gps\", \"GPS\", text)\n",
    "    text = re.sub(r\"gst\", \"GST\", text)\n",
    "    text = re.sub(r\"programing\", \"programming\", text)\n",
    "    text = re.sub(r\"bestfriend\", \"best friend\", text)\n",
    "    text = re.sub(r\"dna\", \"DNA\", text)\n",
    "    text = re.sub(r\"III\", \"3\", text) \n",
    "    text = re.sub(r\"the US\", \"America\", text)\n",
    "    text = re.sub(r\"Astrology\", \"astrology\", text)\n",
    "    text = re.sub(r\"Method\", \"method\", text)\n",
    "    text = re.sub(r\"Find\", \"find\", text) \n",
    "    text = re.sub(r\"banglore\", \"Banglore\", text)\n",
    "    text = re.sub(r\" J K \", \" JK \", text)\n",
    "    text = ' '.join([x for x in text.split(' ') if x not in stop_words])\n",
    "    return text\n",
    "\n",
    "df['q1_clean'] = df['question1'].apply(lambda x:clean(str(x)))\n",
    "df['q2_clean'] = df['question2'].apply(lambda x:clean(str(x)))\n",
    "df_test['q1_clean'] = df_test['question1'].apply(lambda x:clean(str(x)))\n",
    "df_test['q2_clean'] = df_test['question2'].apply(lambda x:clean(str(x)))\n",
    "df.to_csv('data/train_clean.csv')\n",
    "df_test.to_csv('data/test_clean.csv')"
   ]
  },
  {
   "cell_type": "markdown",
   "metadata": {},
   "source": [
    "## WMD of questions\n",
    "A good metric that meets above similarity requirements. However, calculating WMD is slow:\n",
    " * 15 min / 100,000 pairs on a single-thread => total requires 15*55/60=13.75hr<br>\n",
    " solution: parallel computing, start 64 threads concurrently"
   ]
  },
  {
   "cell_type": "markdown",
   "metadata": {},
   "source": [
    "If we can find a good preprocessing function $\\phi(q)$ to eliminate stopwords(phrases) and explaining words, we only have to deal with overlapping case:\n",
    " 1. [ideal] $\\text{sim}(\\phi(q_1),\\phi(q_2))$ is low => non-duplicate\n",
    " 2. [ideal] $\\text{sim}(\\phi(q_1), \\phi(q_2))$ is high => duplicate\n",
    " 3. [issue] $\\text{sim}(\\phi(q_1),\\phi(q_2))$ is high but $q_1\\in q_2$ => non-duplicate!\n",
    "\n",
    "cases (2) and (3) are hard to separate. However, if we let $q=q_1\\cup q_2-q_1\\cap q_2$, then\n",
    " 1. $\\text{sim}(q,q_1)>\\text{sim}(q,q_2)\\approx\\text{sim}(q_1,q_2)$ => non-duplicate\n",
    " 2. $\\text{sim}(q,q_1)\\approx\\text{sim}(q,q_2)>\\text{sim}(q_1,q_2)$ => non-duplicate\n",
    "\n",
    "duplicate only when similarity between the 3 are all high!"
   ]
  },
  {
   "cell_type": "code",
   "execution_count": null,
   "metadata": {
    "collapsed": true
   },
   "outputs": [],
   "source": [
    "Q = df['question1'].append(df['question2'])\n",
    "Q_test = df_test['question1'].append(df_test['question2'])\n",
    "Q_all = Q.append(Q_test)\n",
    "Q_sample = Q_all.sample(n=500000).values\n",
    "bigram_transformer = Phrases(Q_sample)\n",
    "model = Word2Vec(bigram_transformer[Q_sample], size=100, min_count=5, workers=10)\n",
    "model.save('ckpt/bi.model')\n",
    "\n",
    "def compute_wmd(ids, debug=False):\n",
    "    D12, D1, D2 = [], [], []\n",
    "    for i in ids:\n",
    "        if i>cur_df.shape[0]-1:\n",
    "            break\n",
    "        x = cur_df.iloc[i]\n",
    "        w1 = re.split('[^\\w]', x['question1'])\n",
    "        q = ' '.join(w1+[w2 for w2 in re.split('[^\\w]', x['question2']) if w2 not in w1])\n",
    "        d12 = model.wmdistance(x['question1'], x['question2'])\n",
    "        d1 = model.wmdistance(q, x['question1'])\n",
    "        d2 = model.wmdistance(q, x['question2'])\n",
    "        if debug:\n",
    "            print('Q1:{}\\nQ2:{}\\nduplicate={}\\n{}'.format(x['question1'], x['question2'], x['is_duplicate'], q))\n",
    "            print('WMD(q1,q2): {}'.format(d12))\n",
    "            print('WMD(q, q1): {}'.format(d1))\n",
    "            print('WMD(q, q2): {}'.format(d2))\n",
    "            print('------------------------------------------')\n",
    "        D12.append(d12)\n",
    "        D1.append(d1)\n",
    "        D2.append(d2)\n",
    "    return [ids, D12, D1, D2]\n",
    "\n",
    "\n",
    "cur_df = df\n",
    "pn = 64\n",
    "bsize = int((cur_df.shape[0]+pn-1)/pn)\n",
    "pool=multiprocessing.Pool(processes=pn)\n",
    "results=pool.map(compute_wmd, [range(i*bsize,(i+1)*bsize) for i in range(pn)])\n",
    "pool.close()\n",
    "pool.join()\n",
    "\n",
    "RST = {}\n",
    "for i in range(pn):\n",
    "    RST[int(results[i][0][0]/bsize)] = [results[i][1],results[i][2],results[i][3]]\n",
    "D12, D1, D2 = [], [], []\n",
    "for i in range(pn):\n",
    "    D12.extend(RST[i][0])\n",
    "    D1.extend(RST[i][1])\n",
    "    D2.extend(RST[i][2])\n",
    "\n",
    "df['wmd12'] = D12\n",
    "df['wmd1'] = D1\n",
    "df['wmd2'] = D2\n",
    "df.to_csv('data/train_wmd.csv')\n",
    "\n",
    "cur_df = df_test\n",
    "pn = 64\n",
    "bsize = int((cur_df.shape[0]+pn-1)/pn)\n",
    "pool=multiprocessing.Pool(processes=pn)\n",
    "results=pool.map(compute_wmd, [range(i*bsize,(i+1)*bsize) for i in range(pn)])\n",
    "pool.close()\n",
    "pool.join()\n",
    "\n",
    "RST = {}\n",
    "for i in range(pn):\n",
    "    RST[int(results[i][0][0]/bsize)] = [results[i][1],results[i][2],results[i][3]]\n",
    "D12, D1, D2 = [], [], []\n",
    "for i in range(pn):\n",
    "    D12.extend(RST[i][0])\n",
    "    D1.extend(RST[i][1])\n",
    "    D2.extend(RST[i][2])\n",
    "\n",
    "df_test['wmd12'] = D12\n",
    "df_test['wmd1'] = D1\n",
    "df_test['wmd2'] = D2\n",
    "df_test.to_csv('data/test_wmd.csv')\n",
    "\n",
    "df[['id','wmd12','wmd1','wmd2','is_duplicate']].corr()"
   ]
  },
  {
   "cell_type": "code",
   "execution_count": null,
   "metadata": {
    "collapsed": true
   },
   "outputs": [],
   "source": [
    "Q = df['q1_clean'].append(df['q2_clean'])\n",
    "Q_test = df_test['q1_clean'].append(df_test['q2_clean'])\n",
    "Q_all = Q.append(Q_test)\n",
    "Q_sample = Q_all.sample(n=500000).values\n",
    "bigram_transformer = Phrases(Q_sample)\n",
    "model = Word2Vec(bigram_transformer[Q_sample], size=100, min_count=5, workers=10)\n",
    "model.save('ckpt/bi-clean.model')\n",
    "model = Word2Vec.load('ckpt/bi-clean.model')\n",
    "def compute_wmd_clean(ids, debug=False):\n",
    "    D12, D1, D2 = [], [], []\n",
    "    for i in ids:\n",
    "        if i>cur_df.shape[0]-1:\n",
    "            break\n",
    "        x = cur_df.iloc[i]\n",
    "        w1 = re.split('[^\\w]', x['q1_clean'])\n",
    "        q = ' '.join(w1+[w2 for w2 in re.split('[^\\w]', x['q2_clean']) if w2 not in w1])\n",
    "        d12 = model.wmdistance(x['q1_clean'], x['q2_clean'])\n",
    "        d1 = model.wmdistance(q, x['q1_clean'])\n",
    "        d2 = model.wmdistance(q, x['q2_clean'])\n",
    "        if debug:\n",
    "            print('clean-Q1:{}\\nclean-Q2:{}\\nduplicate={}\\n{}'.format(x['q1_clean'], x['q2_clean'], x['is_duplicate'], q))\n",
    "            print('clean-WMD(q1,q2): {}'.format(d12))\n",
    "            print('clean-WMD(q, q1): {}'.format(d1))\n",
    "            print('clean-WMD(q, q2): {}'.format(d2))\n",
    "            print('------------------------------------------')\n",
    "        D12.append(d12)\n",
    "        D1.append(d1)\n",
    "        D2.append(d2)\n",
    "    return [ids, D12, D1, D2]\n",
    "\n",
    "cur_df = df\n",
    "pn = 64\n",
    "bsize = int((cur_df.shape[0]+pn-1)/pn)\n",
    "pool=multiprocessing.Pool(processes=pn)\n",
    "results=pool.map(compute_wmd_clean, [range(i*bsize,(i+1)*bsize) for i in range(pn)])\n",
    "pool.close()\n",
    "pool.join()\n",
    "\n",
    "RST = {}\n",
    "for i in range(pn):\n",
    "    RST[int(results[i][0][0]/bsize)] = [results[i][1],results[i][2],results[i][3]]\n",
    "D12, D1, D2 = [], [], []\n",
    "for i in range(pn):\n",
    "    D12.extend(RST[i][0])\n",
    "    D1.extend(RST[i][1])\n",
    "    D2.extend(RST[i][2])\n",
    "\n",
    "df['wmd12_clean'] = D12\n",
    "df['wmd1_clean'] = D1\n",
    "df['wmd2_clean'] = D2\n",
    "df.to_csv('data/train_wmd_clean.csv')\n",
    "cur_df = df_test\n",
    "pn = 64\n",
    "bsize = int((cur_df.shape[0]+pn-1)/pn)\n",
    "pool=multiprocessing.Pool(processes=pn)\n",
    "results=pool.map(compute_wmd_clean, [range(i*bsize,(i+1)*bsize) for i in range(pn)])\n",
    "pool.close()\n",
    "pool.join()\n",
    "\n",
    "RST = {}\n",
    "for i in range(pn):\n",
    "    RST[int(results[i][0][0]/bsize)] = [results[i][1],results[i][2],results[i][3]]\n",
    "D12, D1, D2 = [], [], []\n",
    "for i in range(pn):\n",
    "    D12.extend(RST[i][0])\n",
    "    D1.extend(RST[i][1])\n",
    "    D2.extend(RST[i][2])\n",
    "\n",
    "df_test['wmd12_clean'] = D12\n",
    "df_test['wmd1_clean'] = D1\n",
    "df_test['wmd2_clean'] = D2\n",
    "df_test.to_csv('data/test_wmd_clean.csv')\n",
    "\n",
    "df[['id','wmd12_clean','wmd1_clean','wmd2_clean','is_duplicate']].corr()"
   ]
  },
  {
   "cell_type": "markdown",
   "metadata": {},
   "source": [
    "## Magic: Pair Combination Matters?\n",
    "If the compared question pairs are selected by unknown algorithm inside Quora system, then\n",
    " * a question being compared more times\n",
    " * questions being compared by more similar questions\n",
    "\n",
    "has higher chances to be duplicate"
   ]
  },
  {
   "cell_type": "code",
   "execution_count": null,
   "metadata": {
    "collapsed": true
   },
   "outputs": [],
   "source": [
    "def aug_magic1(df, df_test):\n",
    "    df1 = df[['question1']].copy()\n",
    "    df2 = df[['question2']].copy()\n",
    "    df1_test = df_test[['question1']].copy()\n",
    "    df2_test = df_test[['question2']].copy()\n",
    "    df2.rename(columns = {'question2':'question1'},inplace=True)\n",
    "    df2_test.rename(columns = {'question2':'question1'},inplace=True)\n",
    "    train_questions = df1.append(df2)\n",
    "    train_questions = train_questions.append(df1_test)\n",
    "    train_questions = train_questions.append(df2_test)\n",
    "    train_questions.drop_duplicates(subset = ['question1'],inplace=True)\n",
    "    train_questions.reset_index(inplace=True,drop=True)\n",
    "    questions_dict = pd.Series(train_questions.index.values,index=train_questions.question1.values).to_dict()\n",
    "    train_cp = df.copy()\n",
    "    test_cp = df_test.copy()\n",
    "    train_cp.drop(['qid1','qid2'],axis=1,inplace=True)\n",
    "    test_cp['is_duplicate'] = -1\n",
    "    test_cp.rename(columns={'test_id':'id'},inplace=True)\n",
    "    comb = pd.concat([train_cp,test_cp])\n",
    "    comb['q1_hash'] = comb['question1'].map(questions_dict)\n",
    "    comb['q2_hash'] = comb['question2'].map(questions_dict)\n",
    "    q1_vc = comb['q1_hash'].value_counts().to_dict()\n",
    "    q2_vc = comb['q2_hash'].value_counts().to_dict()\n",
    "    def try_apply_dict(x,dict_to_apply):\n",
    "        try:\n",
    "            return dict_to_apply[x]\n",
    "        except KeyError:\n",
    "            return 0\n",
    "    comb['q1_freq'] = comb['q1_hash'].map(lambda x: try_apply_dict(x,q1_vc) + try_apply_dict(x,q2_vc))\n",
    "    comb['q2_freq'] = comb['q2_hash'].map(lambda x: try_apply_dict(x,q1_vc) + try_apply_dict(x,q2_vc))\n",
    "    train_comb = comb[comb['is_duplicate'] >= 0][['id','q1_hash','q2_hash','q1_freq','q2_freq','is_duplicate']]\n",
    "    test_comb = comb[comb['is_duplicate'] < 0][['id','q1_hash','q2_hash','q1_freq','q2_freq']]\n",
    "    print(train_comb.corr())\n",
    "    for f in ['q1_hash', 'q2_hash', 'q1_freq', 'q2_freq']:\n",
    "        df[f] = train_comb[f]\n",
    "        df_test[f] = test_comb[f]\n",
    "    return df, df_test\n",
    "\n",
    "df_magic, df_test_magic = aug_magic1(df, df_test)\n",
    "df_magic.to_csv('data/train_wmd_magic.csv')\n",
    "df_test_magic.to_csv('data/test_wmd_magic.csv')\n",
    "\"\"\"corr\n",
    "                    id   q1_hash   q2_hash   q1_freq   q2_freq  is_duplicate\n",
    "id            1.000000  0.692730  0.286969 -0.001608 -0.000777     -0.008784\n",
    "q1_hash       0.692730  1.000000  0.492993 -0.341777 -0.202545     -0.206498\n",
    "q2_hash       0.286969  0.492993  1.000000 -0.392605 -0.466434     -0.349626\n",
    "q1_freq      -0.001608 -0.341777 -0.392605  1.000000  0.494315      0.296621\n",
    "q2_freq      -0.000777 -0.202545 -0.466434  0.494315  1.000000      0.198609\n",
    "is_duplicate -0.008784 -0.206498 -0.349626  0.296621  0.198609      1.000000\n",
    "\"\"\""
   ]
  },
  {
   "cell_type": "code",
   "execution_count": null,
   "metadata": {
    "collapsed": true
   },
   "outputs": [],
   "source": [
    "def aug_magic2(df, df_test):\n",
    "    ques = pd.concat([df[['question1', 'question2']], df_test[['question1', 'question2']]], axis=0).reset_index(drop='index')\n",
    "    q_dict = defaultdict(set)\n",
    "    for i in range(ques.shape[0]):\n",
    "        q_dict[ques['question1'][i]].add(ques['question2'][i])\n",
    "        q_dict[ques['question2'][i]].add(ques['question1'][i])\n",
    "    def q1_q2_intersect(row):\n",
    "        return(len(set(q_dict[row['question1']]).intersection(set(q_dict[row['question2']]))))\n",
    "    df['q12_cmp_comm'] = df.apply(q1_q2_intersect, axis=1, raw=True)\n",
    "    df_test['q12_cmp_comm'] = df_test.apply(q1_q2_intersect, axis=1, raw=True)\n",
    "    return df, df_test\n",
    "\n",
    "df_magic, df_test_magic = aug_magic2(df, df_test)\n",
    "df_magic.to_csv('data/train_wmd_magic2_basic_fuzzy.csv')\n",
    "df_test_magic.to_csv('data/test_wmd_magic2_basic_fuzzy.csv')\n",
    "\n",
    "F = ['id','q1_hash','q2_hash','q1_freq','q2_freq','q12_cmp_comm','wmd12','wmd1','wmd2','is_duplicate']\n",
    "fig = plt.figure(figsize=(15,10))\n",
    "sns.heatmap(df_magic[F].corr(), xticklabels=F, yticklabels=F)\n",
    "plt.savefig('fig/corr.png')"
   ]
  },
  {
   "cell_type": "markdown",
   "metadata": {},
   "source": [
    "## Basic Features\n",
    " * length of q1, q2: df['question1'].str.len()\n",
    " * length difference\n",
    " * character length of q1,q2\n",
    " * word count in q1,q2: df['question1'].apply(lambda row: len(row.split(\" \")))\n",
    " * common word count"
   ]
  },
  {
   "cell_type": "code",
   "execution_count": null,
   "metadata": {
    "collapsed": true
   },
   "outputs": [],
   "source": [
    "stops = stopwords.words(\"english\")\n",
    "def get_weight(count, eps=10000, min_count=2):\n",
    "    if count < min_count:\n",
    "        return 0\n",
    "    else:\n",
    "        return 1 / (count + eps)\n",
    "def word_match_share(row):\n",
    "    q1words = {}\n",
    "    q2words = {}\n",
    "    for word in row['q1']:\n",
    "        if word not in stops:\n",
    "            q1words[word] = 1\n",
    "    for word in row['q2']:\n",
    "        if word not in stops:\n",
    "            q2words[word] = 1\n",
    "    if len(q1words) == 0 or len(q2words) == 0:\n",
    "        # The computer-generated chaff includes a few questions that are nothing but stopwords\n",
    "        return 0\n",
    "    shared_words_in_q1 = [w for w in q1words.keys() if w in q2words]\n",
    "    shared_words_in_q2 = [w for w in q2words.keys() if w in q1words]\n",
    "    R = (len(shared_words_in_q1) + len(shared_words_in_q2))/(len(q1words) + len(q2words))\n",
    "    return R\n",
    "def wc_ratio_unique_stop(row, stops=[]):\n",
    "    l1 = len([x for x in set(row['q1']) if x not in stops])*1.0 \n",
    "    l2 = len([x for x in set(row['q2']) if x not in stops])\n",
    "    if l2 == 0:\n",
    "        return 10\n",
    "    if l1 / l2:\n",
    "        return l2 / l1\n",
    "    else:\n",
    "        return l1 / l2\n",
    "def tfidf_word_match_share_stops(row, stops=None, weights=None):\n",
    "    q1words = {}\n",
    "    q2words = {}\n",
    "    for word in row['q1']:\n",
    "        if word not in stops:\n",
    "            q1words[word] = 1\n",
    "    for word in row['q2']:\n",
    "        if word not in stops:\n",
    "            q2words[word] = 1\n",
    "    if len(q1words) == 0 or len(q2words) == 0:\n",
    "        # The computer-generated chaff includes a few questions that are nothing but stopwords\n",
    "        return 0\n",
    "    shared_weights = [weights.get(w, 0) for w in q1words.keys() if w in q2words] + [weights.get(w, 0) for w in q2words.keys() if w in q1words]\n",
    "    total_weights = [weights.get(w, 0) for w in q1words] + [weights.get(w, 0) for w in q2words]\n",
    "    if np.sum(total_weights) == 0:\n",
    "        return -1\n",
    "    return np.sum(shared_weights) / np.sum(total_weights)\n",
    "def tfidf_word_match_share(row, weights=None):\n",
    "    q1words = {}\n",
    "    q2words = {}\n",
    "    for word in row['q1']:\n",
    "        q1words[word] = 1\n",
    "    for word in row['q2']:\n",
    "        q2words[word] = 1\n",
    "    if len(q1words) == 0 or len(q2words) == 0:\n",
    "        # The computer-generated chaff includes a few questions that are nothing but stopwords\n",
    "        return 0\n",
    "    shared_weights = [weights.get(w, 0) for w in q1words.keys() if w in q2words] + [weights.get(w, 0) for w in q2words.keys() if w in q1words]\n",
    "    total_weights = [weights.get(w, 0) for w in q1words] + [weights.get(w, 0) for w in q2words]\n",
    "    \n",
    "    R = np.sum(shared_weights) / np.sum(total_weights)\n",
    "    return R\n",
    "def same_start_word(row):\n",
    "    if not row['q1'] or not row['q2']:\n",
    "        return -1\n",
    "    return int(row['q1'][0] == row['q2'][0])\n",
    "\n",
    "\n",
    "def aug_basic(df, weights):\n",
    "    df['len_q1'] = df['question1'].apply(lambda x:len(str(x)))\n",
    "    df['len_q2'] = df['question2'].apply(lambda x:len(str(x)))\n",
    "    df['len_diff'] = df['len_q1']-df['len_q2']\n",
    "    df['len_char_q1'] = df['question1'].apply(lambda x:len(''.join(set(str(x).replace(' ','')))))\n",
    "    df['len_char_q2'] = df['question2'].apply(lambda x:len(''.join(set(str(x).replace(' ','')))))\n",
    "    df['wc_q1'] = df['question1'].apply(lambda x:len(str(x).split()))\n",
    "    df['wc_q2'] = df['question2'].apply(lambda x:len(str(x).split()))\n",
    "    df['wc_common'] = df.apply(lambda x:len(set(str(x['question1']).lower().split()).intersection(set(str(x['question2']).lower().split()))), axis=1)\n",
    "    df['q1'] = df['question1'].map(lambda x: str(x).lower().split())\n",
    "    df['q2'] = df['question2'].map(lambda x: str(x).lower().split())\n",
    "    df['wd_match_share'] = df.apply(lambda x:word_match_share(x), axis=1)\n",
    "    df['unq_total'] = df.apply(lambda x:len(set(x['q1']).union(x['q2'])), axis=1)\n",
    "    df['unq_total_stop'] = df.apply(lambda row:len([x for x in set(row['q1']).union(row['q2']) if x not in stops]), axis=1)\n",
    "    df['wc_unq_diff'] = df.apply(lambda x:abs(len(set(x['q1'])) - len(set(x['q2']))), axis=1)\n",
    "    df['wc_unq_diff_stop'] = df.apply(lambda row:abs(len([x for x in set(row['q1']) if x not in stops]) - len([x for x in set(row['q2']) if x not in stops])), axis=1)\n",
    "    df['wc_unq_ratio'] = df.apply(lambda x:wc_ratio_unique_stop(x), axis=1)\n",
    "    df['wc_unq_ratio_stop'] = df.apply(lambda x:wc_ratio_unique_stop(x, stops=stops), axis=1)\n",
    "    df['char_diff_stop'] = df.apply(lambda row:abs(len(''.join([x for x in set(row['q1']) if x not in stops])) - len(''.join([x for x in set(row['q2']) if x not in stops]))), axis=1)\n",
    "    df['same_start'] = df.apply(lambda x:same_start_word(x), axis=1)\n",
    "    f = functools.partial(tfidf_word_match_share, weights=weights)\n",
    "    df['tfidf_wm'] = df.apply(f, axis=1, raw=True)\n",
    "    f = functools.partial(tfidf_word_match_share_stops, stops=stops, weights=weights)\n",
    "    df['tfidf_wm_stops'] = df.apply(f, axis=1, raw=True)\n",
    "    return df\n",
    "\n",
    "df['q1'] = df['question1'].map(lambda x: str(x).lower().split())\n",
    "df['q2'] = df['question2'].map(lambda x: str(x).lower().split())\n",
    "Q = pd.Series(df['q1'].tolist() + df['q2'].tolist())\n",
    "words = [x for y in Q for x in y]\n",
    "counts = Counter(words)\n",
    "weights = {word: get_weight(count) for word, count in counts.items()}\n",
    "cPickle.dump(weights, open('tfidf.pkl', 'wb'))\n",
    "weights = cPickle.load(open('tfidf.pkl', 'rb'))\n",
    "df = aug_basic(df, weights=weights)\n",
    "df.to_csv('data/train_wmd_magic2_basic2_fuzzy.csv', index=False)\n",
    "df_test = aug_basic(df_test, weights=weights)\n",
    "df_test.to_csv('data/test_wmd_magic2_basic2_fuzzy.csv', index=False)"
   ]
  },
  {
   "cell_type": "markdown",
   "metadata": {},
   "source": [
    "## Fuzzy Features\n",
    " - Q-ratio/W-ratio/part-ratio\n",
    " - part-token-set-ratio/part-token-sort-ratio\n",
    " - token-set-ratio/token-sort-ratio"
   ]
  },
  {
   "cell_type": "code",
   "execution_count": null,
   "metadata": {
    "collapsed": false
   },
   "outputs": [],
   "source": [
    "C = ['fuzz_qratio', 'fuzz_wratio', 'fuzz_part_ratio', 'fuzz_part_token_set_ratio', 'fuzz_part_token_sort_ratio', 'fuzz_token_set_ratio', 'fuzz_token_sort_ratio']\n",
    "def compute_fuzzy(ids):\n",
    "    F1, F2, F3, F4, F5, F6, F7 = [], [], [], [], [], [], []\n",
    "    for i in ids:\n",
    "        if i>cur_df.shape[0]-1:\n",
    "            break\n",
    "        x = cur_df.iloc[i]\n",
    "        F1.append(fuzz.QRatio(str(x['question1']), str(x['question2'])))\n",
    "        F2.append(fuzz.WRatio(str(x['question1']), str(x['question2'])))\n",
    "        F3.append(fuzz.partial_ratio(str(x['question1']), str(x['question2'])))\n",
    "        F4.append(fuzz.partial_token_set_ratio(str(x['question1']), str(x['question2'])))\n",
    "        F5.append(fuzz.partial_token_sort_ratio(str(x['question1']), str(x['question2'])))\n",
    "        F6.append(fuzz.token_set_ratio(str(x['question1']), str(x['question2'])))\n",
    "        F7.append(fuzz.token_sort_ratio(str(x['question1']), str(x['question2'])))\n",
    "    return [ids, F1, F2, F3, F4, F5, F6, F7]\n",
    "\n",
    "pn = 64\n",
    "\n",
    "cur_df = df\n",
    "bsize = int((cur_df.shape[0]+pn-1)/pn)\n",
    "pool=multiprocessing.Pool(processes=pn)\n",
    "results=pool.map(compute_fuzzy, [range(i*bsize,(i+1)*bsize) for i in range(pn)])\n",
    "pool.close()\n",
    "pool.join()\n",
    "\n",
    "RST = {}\n",
    "for i in range(pn):\n",
    "    RST[int(results[i][0][0]/bsize)] = [results[i][x] for x in range(1,8)]\n",
    "F1, F2, F3, F4, F5, F6, F7 = [], [], [], [], [], [], []\n",
    "for i in range(pn):\n",
    "    F1.extend(RST[i][0])\n",
    "    F2.extend(RST[i][1])\n",
    "    F3.extend(RST[i][2])\n",
    "    F4.extend(RST[i][3])\n",
    "    F5.extend(RST[i][4])\n",
    "    F6.extend(RST[i][5])\n",
    "    F7.extend(RST[i][6])\n",
    "\n",
    "cur_df[C[0]] = F1\n",
    "cur_df[C[1]] = F2\n",
    "cur_df[C[2]] = F3\n",
    "cur_df[C[3]] = F4\n",
    "cur_df[C[4]] = F5\n",
    "cur_df[C[5]] = F6\n",
    "cur_df[C[6]] = F7\n",
    "cur_df.to_csv('data/train_wmd_magic_basic_fuzzy.csv')\n",
    "\n",
    "cur_df = df_test\n",
    "bsize = int((cur_df.shape[0]+pn-1)/pn)\n",
    "pool=multiprocessing.Pool(processes=pn)\n",
    "results=pool.map(compute_fuzzy, [range(i*bsize,(i+1)*bsize) for i in range(pn)])\n",
    "pool.close()\n",
    "pool.join()\n",
    "\n",
    "RST = {}\n",
    "for i in range(pn):\n",
    "    RST[int(results[i][0][0]/bsize)] = [results[i][x] for x in range(1,8)]\n",
    "F1, F2, F3, F4, F5, F6, F7 = [], [], [], [], [], [], []\n",
    "for i in range(pn):\n",
    "    F1.extend(RST[i][0])\n",
    "    F2.extend(RST[i][1])\n",
    "    F3.extend(RST[i][2])\n",
    "    F4.extend(RST[i][3])\n",
    "    F5.extend(RST[i][4])\n",
    "    F6.extend(RST[i][5])\n",
    "    F7.extend(RST[i][6])\n",
    "\n",
    "cur_df[C[0]] = F1\n",
    "cur_df[C[1]] = F2\n",
    "cur_df[C[2]] = F3\n",
    "cur_df[C[3]] = F4\n",
    "cur_df[C[4]] = F5\n",
    "cur_df[C[5]] = F6\n",
    "cur_df[C[6]] = F7\n",
    "cur_df.to_csv('data/test_wmd_magic_basic_fuzzy.csv')\n",
    "\n",
    "df[['is_duplicate']+C].corr()"
   ]
  },
  {
   "cell_type": "markdown",
   "metadata": {},
   "source": [
    "## Doc2Vec"
   ]
  },
  {
   "cell_type": "code",
   "execution_count": null,
   "metadata": {
    "collapsed": true
   },
   "outputs": [],
   "source": [
    "tokenizer = RegexpTokenizer(r'\\w+')\n",
    "stopwords = stopwords.words(\"english\")\n",
    "lemmatizer = WordNetLemmatizer()\n",
    "def preprocess(text=\"\"):\n",
    "    clean_text = re.sub('[^a-zA-Z0-9 \\n\\.]', ' ', str(text))\n",
    "    tokens = tokenizer.tokenize(clean_text)\n",
    "    tokens = [lemmatizer.lemmatize(token.lower().strip()) for token in tokens\n",
    "              if token not in stopwords and len(token) >= 2]\n",
    "    return tokens"
   ]
  },
  {
   "cell_type": "code",
   "execution_count": null,
   "metadata": {
    "collapsed": true
   },
   "outputs": [],
   "source": [
    "q1, q2 = df[['question1']].copy(), df[['question2']].copy().rename(columns = {'question2':'question1'},inplace=False)\n",
    "qid1, qid2 = df[['qid1']].copy(), df[['qid2']].copy().rename(columns = {'qid2':'qid1'},inplace=False)\n",
    "Qs = q1.append(q2)\n",
    "Qids = qid1.append(qid2)\n",
    "Qs = pd.DataFrame({'question':Qs['question1'], 'qid':Qids['qid1']})\n",
    "\n",
    "alldocuments = []\n",
    "analyzedDocument = namedtuple('AnalyzedDocument', 'words tags')       \n",
    "keywords = []\n",
    "for index,record in Qs.iterrows():\n",
    "    qid = str(record[\"qid\"])\n",
    "    question = str(record[\"question\"])\n",
    "    tokens = preprocess(question)\n",
    "    words = tokens\n",
    "    words_text = \" \".join(words)\n",
    "    words = gensim.utils.simple_preprocess(words_text)\n",
    "    tags = [qid]\n",
    "    alldocuments.append(analyzedDocument(words, tags))"
   ]
  },
  {
   "cell_type": "code",
   "execution_count": null,
   "metadata": {
    "collapsed": true
   },
   "outputs": [],
   "source": [
    "def train_and_save_doc2vec_model(alldocuments, document_model=\"d2v1\", m_iter=20, m_min_count=2, m_size=100, m_window=5):\n",
    "    print (\"Start Time : %s\" %(str(datetime.datetime.now())))\n",
    "    #Train Model\n",
    "    cores = multiprocessing.cpu_count()\n",
    "    abs_path = os.getcwd()\n",
    "    saved_model_name = \"doc_2_vec_%s\" %(document_model)\n",
    "    doc_vec_file = \"ckpt/%s\" %(saved_model_name)\n",
    "    if document_model == \"d2v1\":\n",
    "        # PV-DBOW \n",
    "        model_1 = gensim.models.Doc2Vec(alldocuments,dm=0,workers=cores,size=m_size, window=m_window,min_count=m_min_count,iter=m_iter,dbow_words=1)\n",
    "        model_1.save(\"%s\" %(doc_vec_file))\n",
    "        print (\"model training completed : %s\" %(doc_vec_file))\n",
    "    elif document_model == \"d2v2\":\n",
    "        # PV-DBOW \n",
    "        model_2 = gensim.models.Doc2Vec(alldocuments,dm=0,workers=cores,size=m_size, window=m_window,min_count=m_min_count,iter=m_iter,dbow_words=0)\n",
    "        model_2.save(\"%s\" %(doc_vec_file))\n",
    "        print (\"model training completed : %s\" %(doc_vec_file))\n",
    "    elif document_model == \"d2v3\":\n",
    "        # PV-DM w/average\n",
    "        model_3 = gensim.models.Doc2Vec(alldocuments,dm=1, dm_mean=1,size=m_size, window=m_window,min_count=m_min_count,iter=m_iter)\n",
    "        model_3.save(\"%s\" %(doc_vec_file))\n",
    "        print (\"model training completed : %s\" %(doc_vec_file))\n",
    "    elif document_model == \"d2v4\":\n",
    "        # PV-DM w/concatenation - window=5 (both sides) approximates paper's 10-word total window size\n",
    "        model_4 = gensim.models.Doc2Vec(alldocuments,dm=1, dm_concat=1,workers=cores, size=m_size, window=m_window,min_count=m_min_count,iter=m_iter)\n",
    "        model_4.save(\"%s\" %(doc_vec_file))\n",
    "        print (\"model training completed : %s\" %(doc_vec_file))\n",
    "    print (\"Record count %s\" %len(alldocuments))\n",
    "    print (\"End Time %s\" %(str(datetime.datetime.now())))\n",
    "\n",
    "train_and_save_doc2vec_model(alldocuments, document_model='d2v1')"
   ]
  },
  {
   "cell_type": "code",
   "execution_count": null,
   "metadata": {
    "collapsed": true
   },
   "outputs": [],
   "source": [
    "def get_question_similarity_score(model, Q1=\"\",Q2=\"\", debug=False):\n",
    "    Q1_tok = preprocess(Q1)\n",
    "    Q1_tok = ' '.join(Q1_tok)\n",
    "    Q1_tok = gensim.utils.simple_preprocess(Q1_tok)\n",
    "    Q1_vec = model.infer_vector(Q1_tok)\n",
    "    Q2_tok = preprocess(Q2)\n",
    "    Q2_tok = ' '.join(Q2_tok)\n",
    "    Q2_tok = gensim.utils.simple_preprocess(Q2_tok)\n",
    "    Q2_vec = model.infer_vector(Q2_tok)\n",
    "    sim = cosine_similarity(np.array(Q1_vec).reshape((1,-1)), np.array(Q2_vec).reshape((1,-1)))[0][0]\n",
    "    if debug:\n",
    "        print (\"Q1: \", Q1)\n",
    "        print (\"Q2: \", Q2)\n",
    "        print(\"Q1_tok: \", Q1_tok)\n",
    "        print(\"Q2_tok: \",Q2_tok)\n",
    "        print('similarity: {}\\n------------------------------------'.format(sim))\n",
    "    return [sim, Q1_vec, Q2_vec]"
   ]
  },
  {
   "cell_type": "code",
   "execution_count": null,
   "metadata": {
    "collapsed": false
   },
   "outputs": [],
   "source": [
    "def compute_d2v(ids):\n",
    "    model_name = \"%s\" %(\"ckpt/doc_2_vec_d2v1\")\n",
    "    model_saved_file = \"%s\" %(model_name)\n",
    "    model = gensim.models.doc2vec.Doc2Vec.load(model_saved_file)\n",
    "    S, V1, V2 = [], [], []\n",
    "    for i in ids:\n",
    "        if i > cur_df.shape[0]-1:\n",
    "            break\n",
    "        x = cur_df.iloc[i]\n",
    "        s, v1, v2 = get_question_similarity_score(model, Q1=x['question1'], Q2=x['question2'])\n",
    "        S.append(s)\n",
    "        V1.append(v1)\n",
    "        V2.append(v2)\n",
    "    return [ids, S, V1, V2]\n",
    "\n",
    "pn=72\n",
    "\n",
    "cur_df = df\n",
    "bsize = int((cur_df.shape[0]+pn-1)/pn)\n",
    "pool=multiprocessing.Pool(processes=pn)\n",
    "results=pool.map(compute_d2v, [range(i*bsize,(i+1)*bsize) for i in range(pn)])\n",
    "pool.close()\n",
    "pool.join()\n",
    "RST = {}\n",
    "for i in range(pn):\n",
    "    RST[int(results[i][0][0]/bsize)] = [results[i][j] for j in range(1,4)]\n",
    "S, V1, V2 = [], [], []\n",
    "for i in range(pn):\n",
    "    S.extend(RST[i][0])\n",
    "    V1.extend(RST[i][1])\n",
    "    V2.extend(RST[i][2])\n",
    "cur_df['d2v_sim'] = S\n",
    "cPickle.dump(np.hstack([np.array(V1), np.array(V2)]), open('train_d2v.pkl', 'wb'))\n",
    "cur_df.to_csv('data/train_wmd_magic2_basic_fuzzy_d2v.csv', index=False)\n",
    "\n",
    "cur_df = df_test\n",
    "bsize = int((cur_df.shape[0]+pn-1)/pn)\n",
    "pool=multiprocessing.Pool(processes=pn)\n",
    "results=pool.map(compute_d2v, [range(i*bsize,(i+1)*bsize) for i in range(pn)])\n",
    "pool.close()\n",
    "pool.join()\n",
    "RST = {}\n",
    "for i in range(pn):\n",
    "    RST[int(results[i][0][0]/bsize)] = [results[i][j] for j in range(1,4)]\n",
    "S, V1, V2 = [], [], []\n",
    "for i in range(pn):\n",
    "    S.extend(RST[i][0])\n",
    "    V1.extend(RST[i][1])\n",
    "    V2.extend(RST[i][2])\n",
    "cur_df['d2v_sim'] = S\n",
    "cPickle.dump(np.hstack([np.array(V1), np.array(V2)]), open('test_d2v.pkl', 'wb'))\n",
    "cur_df.to_csv('data/test_wmd_magic2_basic_fuzzy_d2v.csv', index=False)"
   ]
  },
  {
   "cell_type": "markdown",
   "metadata": {},
   "source": [
    "# Score\n",
    "<table><tr><th>feature</th><th>clfs</th><th>comb-weight</th><th>LB</th><th>rank</th></tr>\n",
    "<tr><th>wmd</th><th>LR(0.70),RF(0.71),KNN(0.70),XGB</th><th>(0,2,1,19) => 0.733</th><th>0.494</th><th>2000/2930 top68%</th></tr>\n",
    "<tr><th>+basic+fuzzy</th><th>LR(0.75),RF(0.84),KNN(0.79),XGB(0.83)</th><th>(0,12,0,3) => 0.84</th><th>0.435</th><th>1900/2930 top65%</th></tr>\n",
    "<tr><th>+magic</th><th>LR(0.83),RF(0.92),KNN(0.78),XGB(0.92)</th><th>(0,13,0,11) => 0.92</th><th>0.334</th><th>990/2930 top33%</th></tr>\n",
    "<tr><th>+2magic</th><th>LR(0.92),RF(0.94),KNN(0.78),XGB(0.95)</th><th>(0,4,0,9) => 0.946</th><th>0.230</th><th>280/2930 top9.6%</th></tr>\n",
    "<tr><th>+stack</th><th>LR(0.92),RF(0.94),KNN(0.78),XGB(0.95),NN(0.94)</th><th>(0,1,0,13,8)=>0.946</th><th>0.218</th><th>286/2959 top9.6%</th></tr>\n",
    "<tr><th>+upscale</th><th>LR(0.93),RF(0.96),KNN(0.76),XGB(0.96),NN(0.95)</th><th>(0,1,5,0,13)=>0.957</th><th>0.185</th><th>458/3202=top14%</th></tr>\n",
    "<tr><th>+min</th><th>XGB(0.96)</th><th>0.96</th><th>0.154</th><th>180/3200=top5.6%</th></tr>\n",
    "<tr><th>+min</th><th>LR(0.93),RF(0.96),KNN(0.86),XGB(0.96),NN(0.96)</th><th>(0,4,3,0,13)=>0.960</th><th>0.162</th><th>-</th></tr>\n",
    "</table>"
   ]
  },
  {
   "cell_type": "code",
   "execution_count": 2,
   "metadata": {
    "collapsed": true
   },
   "outputs": [],
   "source": [
    "def get_XY(df, F, MAX=5, split=-1, upscale=False):\n",
    "    for f in F:\n",
    "        if 'wmd' in f:\n",
    "            df[f] = df[f].apply(lambda x:min(x,MAX))\n",
    "    if split>0:\n",
    "        df_train, df_val = train_test_split(df, test_size=split)\n",
    "        X_train, Y_train = df_train[F], df_train['is_duplicate']\n",
    "        X_val, Y_val = df_val[F], df_val['is_duplicate']\n",
    "        if upscale:\n",
    "            f = 'is_duplicate'\n",
    "            pos_train, neg_train = df_train[df_train['is_duplicate']==1].copy(), df_train[df_train['is_duplicate']==0].copy()\n",
    "            pos_val, neg_val = df_val[df_val['is_duplicate']==1].copy(), df_val[df_val['is_duplicate']==0].copy()\n",
    "            X_train = pd.concat([neg_train[F], pos_train[F].iloc[:int(0.8*pos_train.shape[0])], neg_train[F]])\n",
    "            Y_train = pd.concat([neg_train[f], pos_train[f].iloc[:int(0.8*pos_train.shape[0])], neg_train[f]])\n",
    "            X_val = pd.concat([neg_val[F], pos_val[F].iloc[:int(0.8*pos_val.shape[0])], neg_val[F]])\n",
    "            Y_val = pd.concat([neg_val[f], pos_val[f].iloc[:int(0.8*pos_val.shape[0])], neg_val[f]])\n",
    "        return X_train, X_val, Y_train, Y_val\n",
    "    return df[F], df['test_id'], None, None"
   ]
  },
  {
   "cell_type": "code",
   "execution_count": 3,
   "metadata": {
    "collapsed": false
   },
   "outputs": [],
   "source": [
    "df = pd.read_csv('data/train_min.csv')\n",
    "df_test = pd.read_csv('data/test_min.csv')\n",
    "df = df.fillna(10)\n",
    "df_test = df_test.fillna(10)\n",
    "F = ['word_match', 'tfidf_wm', 'tfidf_wm_stops', 'jaccard', 'wc_diff',\n",
    "       'wc_ratio', 'wc_diff_unique', 'wc_ratio_unique', 'wc_diff_unq_stop',\n",
    "       'wc_ratio_unique_stop', 'same_start', 'char_diff', 'char_diff_unq_stop',\n",
    "       'total_unique_words', 'total_unq_words_stop', 'char_ratio', 'len_q1',\n",
    "       'len_q2', 'diff_len', 'len_char_q1', 'len_char_q2', 'len_word_q1',\n",
    "       'len_word_q2', 'common_words', 'fuzz_qratio', 'fuzz_WRatio',\n",
    "       'fuzz_partial_ratio', 'fuzz_partial_token_set_ratio',\n",
    "       'fuzz_partial_token_sort_ratio', 'fuzz_token_set_ratio',\n",
    "       'fuzz_token_sort_ratio', 'wmd', 'norm_wmd', 'cosine_distance',\n",
    "       'cityblock_distance', 'canberra_distance', 'minkowski_distance',\n",
    "       'braycurtis_distance', 'skew_q1vec', 'skew_q2vec', 'kur_q1vec',\n",
    "       'q1_q2_intersect', 'q1_freq', 'q2_freq', 'wmd12',\n",
    "       'wmd1', 'wmd2', 'd2v_sim']\n",
    "X_train, X_val, Y_train, Y_val = get_XY(df, F, split=0.2, upscale=True)\n",
    "test_X, test_id, _, _ = get_XY(df_test, F)"
   ]
  },
  {
   "cell_type": "code",
   "execution_count": null,
   "metadata": {
    "collapsed": false,
    "scrolled": true
   },
   "outputs": [],
   "source": [
    "clf1 = LogisticRegression(penalty='l1', C=1e-1)\n",
    "clf2 = RandomForestClassifier(n_estimators=250)\n",
    "clf3 = KNeighborsClassifier(n_neighbors=10)\n",
    "clf1.fit(X_train, Y_train)\n",
    "clf2.fit(X_train, Y_train)\n",
    "clf3.fit(X_train, Y_train)\n",
    "pred1 = clf1.predict_proba(X_val)[:,1]\n",
    "pred2 = clf2.predict_proba(X_val)[:,1]\n",
    "pred3 = clf3.predict_proba(X_val)[:,1]\n",
    "print('[SVM] valid-auc: {}'.format(roc_auc_score(Y_val, pred1)))\n",
    "print('[RF] valid-auc: {}'.format(roc_auc_score(Y_val, pred2)))\n",
    "print('[KNN] valid-auc: {}'.format(roc_auc_score(Y_val, pred3)))\n",
    "\n",
    "params = {'objective':'binary:logistic', 'eval_metric':'logloss', 'eta':0.02, 'max_depth':7}\n",
    "# params = {'objective':'binary:logistic', 'eval_metric':'logloss', 'eta':0.02, 'max_depth':7, 'subsample':0.6, 'base_score':0.2, 'scale_pos_weight':0.2}\n",
    "d_train = xgb.DMatrix(X_train, label=Y_train)\n",
    "d_valid = xgb.DMatrix(X_val, label=Y_val)\n",
    "watchlist = [(d_train, 'train'), (d_valid, 'valid')]\n",
    "bst = xgb.train(params, d_train, 4001, watchlist, early_stopping_rounds=50, verbose_eval=1000)\n",
    "pred4 = bst.predict(d_valid)\n",
    "print('[XGB] valid-auc: {}'.format(roc_auc_score(Y_val, pred4)))\n",
    "\n",
    "# for stacking\n",
    "train_pred1 = clf1.predict_proba(X_train)[:,1]\n",
    "train_pred2 = clf2.predict_proba(X_train)[:,1]\n",
    "train_pred3 = clf3.predict_proba(X_train)[:,1]\n",
    "train_pred4 = bst.predict(d_train)"
   ]
  },
  {
   "cell_type": "code",
   "execution_count": 20,
   "metadata": {
    "collapsed": false
   },
   "outputs": [
    {
     "name": "stdout",
     "output_type": "stream",
     "text": [
      "[0]\ttrain-logloss:0.678634\tvalid-logloss:0.678708\n",
      "Multiple eval metrics have been passed: 'valid-logloss' will be used for early stopping.\n",
      "\n",
      "Will train until valid-logloss hasn't improved in 50 rounds.\n",
      "[1000]\ttrain-logloss:0.164717\tvalid-logloss:0.184058\n",
      "Stopping. Best iteration:\n",
      "[1440]\ttrain-logloss:0.156848\tvalid-logloss:0.183011\n",
      "\n",
      "[XGB] valid-auc: 0.9598159757755457\n"
     ]
    }
   ],
   "source": [
    "params = {'objective':'binary:logistic', 'eval_metric':'logloss', 'eta':0.02, 'max_depth':7}\n",
    "d_train = xgb.DMatrix(X_train, label=Y_train)\n",
    "d_valid = xgb.DMatrix(X_val, label=Y_val)\n",
    "watchlist = [(d_train, 'train'), (d_valid, 'valid')]\n",
    "bst = xgb.train(params, d_train, 4001, watchlist, early_stopping_rounds=50, verbose_eval=1000)\n",
    "pred4 = bst.predict(d_valid)\n",
    "print('[XGB] valid-auc: {}'.format(roc_auc_score(Y_val, pred4)))"
   ]
  },
  {
   "cell_type": "code",
   "execution_count": 21,
   "metadata": {
    "collapsed": false
   },
   "outputs": [
    {
     "name": "stdout",
     "output_type": "stream",
     "text": [
      "[0]\ttrain-logloss:0.678631\tvalid-logloss:0.678533\n",
      "Multiple eval metrics have been passed: 'valid-logloss' will be used for early stopping.\n",
      "\n",
      "Will train until valid-logloss hasn't improved in 50 rounds.\n",
      "[1000]\ttrain-logloss:0.164789\tvalid-logloss:0.16919\n",
      "Stopping. Best iteration:\n",
      "[1645]\ttrain-logloss:0.154064\tvalid-logloss:0.167185\n",
      "\n"
     ]
    }
   ],
   "source": [
    "X_train, X_val, Y_train, Y_val = get_XY(df, F, split=0.01, upscale=True)\n",
    "watchlist = [(xgb.DMatrix(X_train, label=Y_train), 'train'), (xgb.DMatrix(X_val, label=Y_val), 'valid')]\n",
    "bst = xgb.train(params, xgb.DMatrix(X_train, label=Y_train), 4001, watchlist, early_stopping_rounds=50, verbose_eval=1000)\n",
    "d_test = xgb.DMatrix(test_X)\n",
    "pred4 = bst.predict(d_test)\n",
    "pred = pd.DataFrame({'test_id':test_id,'is_duplicate':pred4})\n",
    "pred.to_csv('sub/sub-mine-min-XGB.csv', index=False)"
   ]
  },
  {
   "cell_type": "code",
   "execution_count": 22,
   "metadata": {
    "collapsed": true
   },
   "outputs": [],
   "source": [
    "d_test = xgb.DMatrix(test_X)\n",
    "pred4 = bst.predict(d_test)\n",
    "pred = pd.DataFrame({'test_id':test_id,'is_duplicate':pred4})\n",
    "pred.to_csv('sub/sub-mine-min-XGB.csv', index=False)"
   ]
  },
  {
   "cell_type": "markdown",
   "metadata": {},
   "source": [
    "## Ensemble\n",
    " - brute-force weighted\n",
    " - stacking by NN"
   ]
  },
  {
   "cell_type": "code",
   "execution_count": null,
   "metadata": {
    "collapsed": true
   },
   "outputs": [],
   "source": [
    "def compute_weight(cur,n=15):\n",
    "    S, CMB = [], []\n",
    "    for b in range(15):\n",
    "        for c in range(15):\n",
    "            for d in range(15):\n",
    "                y_pred = pred1*cur + pred2*b + pred3*c + pred4*d\n",
    "                S.append(roc_auc_score(Y_val, y_pred))\n",
    "                CMB.append((cur,b,c,d))\n",
    "    return [S, CMB]\n",
    "\n",
    "pn=15\n",
    "pool=multiprocessing.Pool(processes=pn)\n",
    "results=pool.map(compute_weight, range(pn))\n",
    "pool.close()\n",
    "pool.join()\n",
    "\n",
    "S, CMB = [], []\n",
    "for i in range(pn):\n",
    "    S.extend(results[i][0])\n",
    "    CMB.extend(results[i][1])\n",
    "\n",
    "top = np.argsort(S)[-1]\n",
    "bab, bscore = CMB[top], S[top]\n",
    "print('{}: {}'.format(bab, bscore))"
   ]
  },
  {
   "cell_type": "code",
   "execution_count": 34,
   "metadata": {
    "collapsed": false
   },
   "outputs": [],
   "source": [
    "S_train = np.hstack([train_pred1.reshape((-1,1)), train_pred2.reshape((-1,1)), train_pred3.reshape((-1,1)), train_pred4.reshape((-1,1))])\n",
    "S_val = np.hstack([pred1.reshape((-1,1)), pred2.reshape((-1,1)), pred3.reshape((-1,1)), pred4.reshape((-1,1))])"
   ]
  },
  {
   "cell_type": "code",
   "execution_count": 35,
   "metadata": {
    "collapsed": false
   },
   "outputs": [],
   "source": [
    "def stack_nn(n_pred, f_dim, lr=1e-3):\n",
    "    x_clf = Input(shape=(n_pred,))\n",
    "    x_nn = Input(shape=(f_dim,))\n",
    "    x = Dense(128, activation='relu')(x_nn)\n",
    "    x = Dense(16, activation='relu')(x)\n",
    "    x = Dense(2, activation='relu')(x)\n",
    "    x = merge([x, x_clf], mode='concat', concat_axis=-1)\n",
    "    out = Dense(1, activation='sigmoid')(x)\n",
    "    model = Model(input=[x_nn, x_clf], output=out)\n",
    "    model.compile(loss='binary_crossentropy', optimizer=RMSprop(lr=lr))\n",
    "    return model"
   ]
  },
  {
   "cell_type": "code",
   "execution_count": 36,
   "metadata": {
    "collapsed": false,
    "scrolled": true
   },
   "outputs": [
    {
     "name": "stdout",
     "output_type": "stream",
     "text": [
      "Train on 503920 samples, validate on 125544 samples\n",
      "Epoch 1/50\n",
      "503920/503920 [==============================] - 33s - loss: 0.4227 - val_loss: 0.3119\n",
      "Epoch 2/50\n",
      "503920/503920 [==============================] - 28s - loss: 0.1667 - val_loss: 0.2166\n",
      "Epoch 3/50\n",
      "503920/503920 [==============================] - 27s - loss: 0.0866 - val_loss: 0.2036\n",
      "Epoch 4/50\n",
      "503920/503920 [==============================] - 29s - loss: 0.0546 - val_loss: 0.2053\n",
      "Epoch 5/50\n",
      "503920/503920 [==============================] - 28s - loss: 0.0360 - val_loss: 0.2104\n"
     ]
    },
    {
     "data": {
      "image/png": "[encoded data removed]",
      "text/plain": [
       "<matplotlib.figure.Figure at 0x7f7ab862c6a0>"
      ]
     },
     "metadata": {},
     "output_type": "display_data"
    }
   ],
   "source": [
    "model = stack_nn(4, X_train.shape[1], lr=1e-4)\n",
    "hist = model.fit([X_train.values, S_train], Y_train.values, batch_size=32, nb_epoch=50, verbose=1, \n",
    "                 validation_data=([X_val.values, S_val], Y_val.values), \n",
    "                 callbacks=[EarlyStopping(monitor='val_loss', patience=1)], shuffle=True)\n",
    "hist = {'loss':hist.history['loss'], 'val_loss':hist.history['val_loss']}\n",
    "\n",
    "plt.plot(range(len(hist['loss'])), hist['loss'], c='r', label='train')\n",
    "plt.plot(range(len(hist['val_loss'])), hist['val_loss'], c='b', label='valid')\n",
    "plt.xlabel('epoch')\n",
    "plt.ylabel('cross-entropy loss')\n",
    "plt.title('stacking')\n",
    "plt.savefig('fig/stack1.png')\n",
    "\n",
    "hist_path, mdl_path = 'ckpt/stack2.pkl', 'ckpt/stack2.h5'\n",
    "cPickle.dump(hist, open(hist_path, 'wb'))\n",
    "model.save(mdl_path)"
   ]
  },
  {
   "cell_type": "code",
   "execution_count": 37,
   "metadata": {
    "collapsed": false
   },
   "outputs": [
    {
     "name": "stdout",
     "output_type": "stream",
     "text": [
      "NN-stacking: 0.957795053501782\n"
     ]
    }
   ],
   "source": [
    "model = load_model('ckpt/stack2.h5')\n",
    "pred5 = model.predict([X_val.values, S_val]).reshape((-1))\n",
    "print('NN-stacking: {}'.format(roc_auc_score(Y_val, pred5)))"
   ]
  },
  {
   "cell_type": "code",
   "execution_count": 38,
   "metadata": {
    "collapsed": false
   },
   "outputs": [
    {
     "name": "stdout",
     "output_type": "stream",
     "text": [
      "(1, 2, 0, 11): 0.9604290510999173\n"
     ]
    }
   ],
   "source": [
    "def compute_sweight(cur,n=15):\n",
    "    S, CMB = [], []\n",
    "    for b in range(15):\n",
    "        for c in range(15):\n",
    "            for d in range(15):\n",
    "                y_pred = pred5*cur + pred2*b + pred3*c + pred4*d\n",
    "                S.append(roc_auc_score(Y_val, y_pred))\n",
    "                CMB.append((cur,b,c,d))\n",
    "    return [S, CMB]\n",
    "\n",
    "pn=15\n",
    "pool=multiprocessing.Pool(processes=pn)\n",
    "results=pool.map(compute_sweight, range(pn))\n",
    "pool.close()\n",
    "pool.join()\n",
    "\n",
    "S, CMB = [], []\n",
    "for i in range(pn):\n",
    "    S.extend(results[i][0])\n",
    "    CMB.extend(results[i][1])\n",
    "\n",
    "top = np.argsort(S)[-1]\n",
    "bab, bscore = CMB[top], S[top]\n",
    "print('{}: {}'.format(bab, bscore))"
   ]
  },
  {
   "cell_type": "markdown",
   "metadata": {},
   "source": [
    "## Generate Prediction"
   ]
  },
  {
   "cell_type": "code",
   "execution_count": 39,
   "metadata": {
    "collapsed": false,
    "scrolled": true
   },
   "outputs": [
    {
     "name": "stdout",
     "output_type": "stream",
     "text": [
      "[0]\ttrain-logloss:0.679262\tvalid-logloss:0.679308\n",
      "Multiple eval metrics have been passed: 'valid-logloss' will be used for early stopping.\n",
      "\n",
      "Will train until valid-logloss hasn't improved in 50 rounds.\n",
      "[1000]\ttrain-logloss:0.18712\tvalid-logloss:0.187961\n",
      "[2000]\ttrain-logloss:0.179277\tvalid-logloss:0.180125\n"
     ]
    }
   ],
   "source": [
    "X = pd.concat([X_train, X_val])\n",
    "Y = pd.concat([Y_train, Y_val])\n",
    "# train on all training data\n",
    "clf1.fit(X, Y)\n",
    "clf2.fit(X, Y)\n",
    "clf3.fit(X, Y)\n",
    "bst = xgb.train(params, xgb.DMatrix(X, label=Y), 2001, watchlist, early_stopping_rounds=50, verbose_eval=1000)\n",
    "pred1 = clf1.predict_proba(test_X)[:,1]\n",
    "pred2 = clf2.predict_proba(test_X)[:,1]\n",
    "pred3 = clf3.predict_proba(test_X)[:,1]\n",
    "d_test = xgb.DMatrix(test_X)\n",
    "pred4 = bst.predict(d_test)"
   ]
  },
  {
   "cell_type": "raw",
   "metadata": {
    "collapsed": false
   },
   "source": [
    "# weighted\n",
    "a, b, c, d = bab\n",
    "y_pred = (pred1*a + pred2*b + pred3*c + pred4*d)/(a+b+c+d)\n",
    "pred = pd.DataFrame({'test_id':test_id,'is_duplicate':y_pred})\n",
    "pred.to_csv('sub/sub-wmd-magic2-basic-fuzzy-upscale.csv', index=False)"
   ]
  },
  {
   "cell_type": "code",
   "execution_count": 49,
   "metadata": {
    "collapsed": false
   },
   "outputs": [],
   "source": [
    "# stack\n",
    "S_test = np.hstack([pred1.reshape((-1,1)), pred2.reshape((-1,1)), pred3.reshape((-1,1)), pred4.reshape((-1,1))])\n",
    "pred5 = model.predict([test_X.values, S_test]).reshape((-1))\n",
    "\n",
    "a, b, c, d = bab\n",
    "y_pred = (pred5*a + pred2*b + pred3*c + pred4*d)/(a+b+c+d)\n",
    "pred = pd.DataFrame({'test_id':test_id,'is_duplicate':y_pred})\n",
    "pred.to_csv('sub/sub-mine-min-stack.csv', index=False)"
   ]
  },
  {
   "cell_type": "code",
   "execution_count": 50,
   "metadata": {
    "collapsed": false
   },
   "outputs": [
    {
     "data": {
      "image/png": "[encoded data removed]",
      "text/plain": [
       "<matplotlib.figure.Figure at 0x7f7ab862c128>"
      ]
     },
     "metadata": {},
     "output_type": "display_data"
    }
   ],
   "source": [
    "def get_xgb_imp(bst, F, out=''):\n",
    "    imp_vals = bst.get_fscore()\n",
    "    total = np.array(list(imp_vals.values())).sum()\n",
    "    dic = {k:v/total for k,v in imp_vals.items()}\n",
    "    sdic = list(reversed(sorted([(v,k) for (k,v) in dic.items()])))\n",
    "    fig = plt.figure(figsize=(120,8))\n",
    "    plt.title('feature importance by XGB')\n",
    "    plt.bar(range(len(sdic)), [x[0] for x in sdic])\n",
    "    plt.xticks(range(len(sdic)), [x[1] for x in sdic])\n",
    "    if len(out)>0:\n",
    "        plt.savefig(out)\n",
    "    else:\n",
    "        plt.show()\n",
    "    \n",
    "get_xgb_imp(bst, F, out='fig/imp-mine-min-stack.png')"
   ]
  },
  {
   "cell_type": "code",
   "execution_count": null,
   "metadata": {
    "collapsed": true
   },
   "outputs": [],
   "source": []
  }
 ],
 "metadata": {
  "kernelspec": {
   "display_name": "Python 3",
   "language": "python",
   "name": "python3"
  },
  "language_info": {
   "codemirror_mode": {
    "name": "ipython",
    "version": 3
   },
   "file_extension": ".py",
   "mimetype": "text/x-python",
   "name": "python",
   "nbconvert_exporter": "python",
   "pygments_lexer": "ipython3",
   "version": "3.5.2"
  }
 },
 "nbformat": 4,
 "nbformat_minor": 1
}
